{
 "cells": [
  {
   "cell_type": "code",
   "execution_count": 272,
   "metadata": {
    "collapsed": true
   },
   "outputs": [],
   "source": [
    "import math\n",
    "from pprint import pprint\n",
    "\n",
    "from matplotlib import pyplot as plt\n",
    "import numpy as np\n",
    "import random\n",
    "from tqdm import tqdm\n",
    "from scipy.optimize import minimize\n",
    "from scipy import optimize"
   ]
  },
  {
   "cell_type": "code",
   "execution_count": 135,
   "outputs": [],
   "source": [
    "eps = 0.001"
   ],
   "metadata": {
    "collapsed": false,
    "pycharm": {
     "name": "#%%\n"
    }
   }
  },
  {
   "cell_type": "code",
   "execution_count": 153,
   "outputs": [
    {
     "data": {
      "text/plain": "(0.5704353905988135, 0.1916967510590799)"
     },
     "execution_count": 153,
     "metadata": {},
     "output_type": "execute_result"
    }
   ],
   "source": [
    "alpha = random.random()\n",
    "beta = random.random()\n",
    "alpha, beta"
   ],
   "metadata": {
    "collapsed": false,
    "pycharm": {
     "name": "#%%\n"
    }
   }
  },
  {
   "cell_type": "code",
   "execution_count": 156,
   "outputs": [],
   "source": [
    "k = 100"
   ],
   "metadata": {
    "collapsed": false,
    "pycharm": {
     "name": "#%%\n"
    }
   }
  },
  {
   "cell_type": "code",
   "execution_count": 159,
   "outputs": [],
   "source": [
    "arr = [alpha * (x / k) + beta + np.random.normal(0, 1) for x in range(k)]"
   ],
   "metadata": {
    "collapsed": false,
    "pycharm": {
     "name": "#%%\n"
    }
   }
  },
  {
   "cell_type": "code",
   "execution_count": 160,
   "outputs": [
    {
     "data": {
      "text/plain": "<Figure size 432x288 with 1 Axes>",
      "image/png": "[encoded data removed]"
     },
     "metadata": {
      "needs_background": "light"
     },
     "output_type": "display_data"
    }
   ],
   "source": [
    "plt.plot(range(k), arr, 'o')\n",
    "plt.show()"
   ],
   "metadata": {
    "collapsed": false,
    "pycharm": {
     "name": "#%%\n"
    }
   }
  },
  {
   "cell_type": "code",
   "execution_count": 275,
   "outputs": [],
   "source": [
    "func_call = 0\n",
    "\n",
    "\n",
    "def counter(func):\n",
    "    def internal_counter(*x):\n",
    "        global func_call\n",
    "        func_call += 1\n",
    "        return func(*x)\n",
    "\n",
    "    return internal_counter\n",
    "\n",
    "\n",
    "gradient_call = 0\n",
    "\n",
    "\n",
    "def counter_g(func):\n",
    "    def internal_counter(*x):\n",
    "        global gradient_call\n",
    "        gradient_call += 1\n",
    "        return func(*x)\n",
    "\n",
    "    return internal_counter\n",
    "\n",
    "\n",
    "hessian_call = 0\n",
    "\n",
    "\n",
    "def counter_h(func):\n",
    "    def internal_counter(*x):\n",
    "        global hessian_call\n",
    "        hessian_call += 1\n",
    "        return func(*x)\n",
    "\n",
    "    return internal_counter"
   ],
   "metadata": {
    "collapsed": false,
    "pycharm": {
     "name": "#%%\n"
    }
   }
  },
  {
   "cell_type": "code",
   "execution_count": 161,
   "outputs": [],
   "source": [
    "def lin_func(x, a, b):\n",
    "    return a * x + b\n",
    "\n",
    "\n",
    "def rational_func(x, a, b):\n",
    "    return a / (1 + b * x)"
   ],
   "metadata": {
    "collapsed": false,
    "pycharm": {
     "name": "#%%\n"
    }
   }
  },
  {
   "cell_type": "code",
   "execution_count": 163,
   "outputs": [],
   "source": [
    "def lin_func_to_optim(a, b):\n",
    "    return sum([(lin_func(x / k, a, b) - arr[x]) ** 2 for x in range(k)])\n",
    "\n",
    "\n",
    "def rational_func_to_optim(a, b):\n",
    "    return sum([(rational_func(x / k, a, b) - arr[x]) ** 2 for x in range(k)])"
   ],
   "metadata": {
    "collapsed": false,
    "pycharm": {
     "name": "#%%\n"
    }
   }
  },
  {
   "cell_type": "code",
   "execution_count": 189,
   "outputs": [],
   "source": [
    "def gradient_lin_func_with_loss(a, b):\n",
    "    temp_a = []\n",
    "    temp_b = []\n",
    "    for ki in range(k):\n",
    "        x = ki / k\n",
    "        y = arr[ki]\n",
    "        temp_a.append(2 * x ** 2 * a + 2 * b * x - 2 * y * x)\n",
    "        temp_b.append(2 * b + 2 * a * x - 2 * y)\n",
    "    da = sum(temp_a)\n",
    "    db = sum(temp_b)\n",
    "    return da, db\n",
    "\n",
    "\n",
    "def hessian_lin_func_with_loss(a, b):\n",
    "    hessian = np.array(\n",
    "        [[sum([2 * (x / k) ** 2 for x in range(k)]), sum([2 * (x / k) for x in range(k)])],\n",
    "         [sum([2 * (x / k) for x in range(k)]), sum([2 for x in range(k)])]]\n",
    "    )\n",
    "    return hessian"
   ],
   "metadata": {
    "collapsed": false,
    "pycharm": {
     "name": "#%%\n"
    }
   }
  },
  {
   "cell_type": "code",
   "execution_count": 256,
   "outputs": [],
   "source": [
    "def gradient_rational_func_with_loss(a, b):\n",
    "    temp_a = []\n",
    "    temp_b = []\n",
    "    for ki in range(k):\n",
    "        x = (ki / k)\n",
    "        y = (arr[ki])\n",
    "\n",
    "        a_denominator = (1 + b * x) ** 2\n",
    "        temp_a.append(\n",
    "            - ((2 * x * b * y) / a_denominator)\n",
    "            + (2 * a / a_denominator)\n",
    "            - (2 * y / a_denominator)\n",
    "        )\n",
    "\n",
    "        temp_b.append(\n",
    "            -(2 * a * x * (a - y - x * b * y))\n",
    "            / ((b * x + 1) ** 3)\n",
    "        )\n",
    "    da = sum(temp_a)\n",
    "    db = sum(temp_b)\n",
    "    return da, db\n",
    "\n",
    "\n",
    "def hessian_rational_func_with_loss(a, b):\n",
    "    hessian = np.array(\n",
    "        [[\n",
    "            sum([2 / ((b * (ki / k) + 1) ** 2) for ki in range(k)]),\n",
    "            sum([-(2 * (ki / k) * (2 * a - (arr[ki]) - b * (ki / k) * (arr[ki]))) / ((b * (ki / k) + 1) ** 3) for ki in\n",
    "                 range(k)])\n",
    "        ],\n",
    "            [\n",
    "                sum([-(2 * (ki / k) * (2 * a - (arr[ki]) - b * (ki / k) * (arr[ki]))) / ((b * (ki / k) + 1) ** 3) for ki\n",
    "                     in range(k)]),\n",
    "                sum([-(2 * (ki / k) ** 2 * a * (2 * (ki / k) * b * (arr[ki]) + 2 * (arr[ki]) - 3 * a)) / (\n",
    "                        (b * (ki / k) + 1) ** 4) for ki in range(k)])\n",
    "            ]\n",
    "        ]\n",
    "    )\n",
    "    return hessian"
   ],
   "metadata": {
    "collapsed": false,
    "pycharm": {
     "name": "#%%\n"
    }
   }
  },
  {
   "cell_type": "code",
   "execution_count": 268,
   "outputs": [],
   "source": [
    "def gradient_descent(a_init, b_init, eps, func_to_optim, gradient):\n",
    "    a, b = a_init, b_init\n",
    "    a_old, b_old = a, b\n",
    "    da, db = 1, 1\n",
    "    iters = 0\n",
    "\n",
    "    while (math.fabs((func_to_optim(a, b) - func_to_optim(a_old, b_old)) / 2)) > eps or iters == 0:\n",
    "        da_old, db_old = da, db\n",
    "        da, db = gradient(a, b)\n",
    "        if iters == 0:\n",
    "            lr = 0.001\n",
    "        else:\n",
    "            f1 = (np.array([a, b] - np.array([a_old, b_old])))\n",
    "            f2 = (np.array([da, db] - np.array([da_old, db_old])))\n",
    "            lr = np.mean(np.abs(f1 * f2) / (f2 ** 2))\n",
    "        a_old, b_old = a, b\n",
    "        a -= lr * da\n",
    "        b -= lr * db\n",
    "        # print(lr, a, b, lin_func_to_optim(a, b))\n",
    "        iters += 1\n",
    "\n",
    "    return a, b, iters"
   ],
   "metadata": {
    "collapsed": false,
    "pycharm": {
     "name": "#%%\n"
    }
   }
  },
  {
   "cell_type": "code",
   "execution_count": 284,
   "outputs": [
    {
     "name": "stdout",
     "output_type": "stream",
     "text": [
      "{'a': 0.5740122331807191,\n",
      " 'b': 0.2694386829970851,\n",
      " 'func_call': 20,\n",
      " 'gradient_call': 9,\n",
      " 'hessian_call': 0,\n",
      " 'iters': 9}\n"
     ]
    }
   ],
   "source": [
    "func_call = 0\n",
    "gradient_call = 0\n",
    "hessian_call = 0\n",
    "\n",
    "a_gradient_descent, b_gradient_descent, iters = gradient_descent(0, 0, eps, counter(lin_func_to_optim),\n",
    "                                                                 counter_g(gradient_lin_func_with_loss))\n",
    "\n",
    "pprint({\n",
    "    \"a\": a_gradient_descent,\n",
    "    \"b\": b_gradient_descent,\n",
    "    \"iters\": iters,\n",
    "    \"func_call\": func_call,\n",
    "    \"gradient_call\": gradient_call,\n",
    "    \"hessian_call\": hessian_call,\n",
    "})"
   ],
   "metadata": {
    "collapsed": false,
    "pycharm": {
     "name": "#%%\n"
    }
   }
  },
  {
   "cell_type": "code",
   "execution_count": 286,
   "outputs": [
    {
     "name": "stdout",
     "output_type": "stream",
     "text": [
      "Optimization terminated successfully.\n",
      "         Current function value: 87.050279\n",
      "         Iterations: 2\n",
      "         Function evaluations: 5\n",
      "         Gradient evaluations: 5\n",
      "{'a': 0.5714742681064446,\n",
      " 'b': 0.2707837160538836,\n",
      " 'func_call': 5,\n",
      " 'gradient_call': 5,\n",
      " 'hessian_call': 0,\n",
      " 'iters': 2}\n"
     ]
    }
   ],
   "source": [
    "func_call = 0\n",
    "gradient_call = 0\n",
    "hessian_call = 0\n",
    "\n",
    "a_nonlinear_conjugate_gradient_descent, b_nonlinear_conjugate_gradient_descent = optimize.fmin_cg(\n",
    "    lambda x: counter(lin_func_to_optim)(*x), (0, 0), fprime=lambda x: counter_g(gradient_lin_func_with_loss)(*x))\n",
    "\n",
    "pprint({\n",
    "    \"a\": a_nonlinear_conjugate_gradient_descent,\n",
    "    \"b\": b_nonlinear_conjugate_gradient_descent,\n",
    "    \"iters\": 2,\n",
    "    \"func_call\": func_call,\n",
    "    \"gradient_call\": gradient_call,\n",
    "    \"hessian_call\": hessian_call,\n",
    "})"
   ],
   "metadata": {
    "collapsed": false,
    "pycharm": {
     "name": "#%%\n"
    }
   }
  },
  {
   "cell_type": "code",
   "execution_count": 289,
   "outputs": [
    {
     "name": "stdout",
     "output_type": "stream",
     "text": [
      "{'a': 0.5714742681064442,\n",
      " 'b': 0.27078371605388385,\n",
      " 'func_call': 3,\n",
      " 'gradient_call': 3,\n",
      " 'hessian_call': 3,\n",
      " 'iters': 3}\n"
     ]
    }
   ],
   "source": [
    "func_call = 0\n",
    "gradient_call = 0\n",
    "hessian_call = 0\n",
    "\n",
    "newton_results = optimize.minimize(lambda x: counter(lin_func_to_optim)(*x), np.array([0, 0]), method='Newton-CG',\n",
    "                                   jac=lambda x: counter_g(gradient_lin_func_with_loss)(*x),\n",
    "                                   hess=lambda x: counter_h(hessian_lin_func_with_loss)(*x))\n",
    "a_newton, b_newton = newton_results.x\n",
    "\n",
    "pprint({\n",
    "    \"a\": a_newton,\n",
    "    \"b\": b_newton,\n",
    "    \"iters\": 3,\n",
    "    \"func_call\": func_call,\n",
    "    \"gradient_call\": gradient_call,\n",
    "    \"hessian_call\": hessian_call,\n",
    "})"
   ],
   "metadata": {
    "collapsed": false,
    "pycharm": {
     "name": "#%%\n"
    }
   }
  },
  {
   "cell_type": "code",
   "execution_count": 292,
   "outputs": [
    {
     "name": "stdout",
     "output_type": "stream",
     "text": [
      "{'a': 0.5714742681064442,\n",
      " 'b': 0.27078371605388385,\n",
      " 'func_call': 0,\n",
      " 'gradient_call': 9,\n",
      " 'hessian_call': 0,\n",
      " 'iters': 7}\n"
     ]
    },
    {
     "data": {
      "text/plain": "   cov_x: array([[ 0.00448299, -0.00236759],\n       [-0.00236759,  0.00127047]])\n    fjac: array([[-223.16137659,    0.89621243],\n       [-117.8578946 ,   14.93538018]])\n     fun: array([-1.33226763e-15, -7.10542736e-15])\n    ipvt: array([2, 1], dtype=int32)\n message: 'The relative error between two consecutive iterates is at most 0.000000'\n    nfev: 7\n     qtf: array([1.02272223e-12, 3.24392471e-13])\n  status: 2\n success: True\n       x: array([0.57147427, 0.27078372])"
     },
     "execution_count": 292,
     "metadata": {},
     "output_type": "execute_result"
    }
   ],
   "source": [
    "func_call = 0\n",
    "gradient_call = 0\n",
    "hessian_call = 0\n",
    "\n",
    "\n",
    "lm_res = optimize.root(lambda x: counter_g(gradient_lin_func_with_loss)(*x), np.array([0, 0]), method='lm', options={\"eps\": eps})\n",
    "a_lm, b_lm = lm_res.x\n",
    "\n",
    "pprint({\n",
    "    \"a\": a_lm,\n",
    "    \"b\": b_lm,\n",
    "    \"iters\": 7,\n",
    "    \"func_call\": func_call,\n",
    "    \"gradient_call\": gradient_call,\n",
    "    \"hessian_call\": hessian_call,\n",
    "})\n",
    "lm_res"
   ],
   "metadata": {
    "collapsed": false,
    "pycharm": {
     "name": "#%%\n"
    }
   }
  },
  {
   "cell_type": "code",
   "execution_count": 250,
   "outputs": [
    {
     "data": {
      "text/plain": "<Figure size 936x360 with 1 Axes>",
      "image/png": "[encoded data removed]"
     },
     "metadata": {
      "needs_background": "light"
     },
     "output_type": "display_data"
    }
   ],
   "source": [
    "plt.figure(figsize=(13, 5))\n",
    "plt.plot(range(k), arr, 'o', alpha=0.7, label=\"Generated data\")\n",
    "plt.plot(range(k), [lin_func(x / k, alpha, beta) for x in range(k)], linewidth=2, alpha=0.7, label=\"Originating line\")\n",
    "plt.plot(range(k), [lin_func(x / k, a_gradient_descent, b_gradient_descent) for x in range(k)], linewidth=4, alpha=0.7,\n",
    "         label=\"Gradient descent\")\n",
    "plt.plot(range(k),\n",
    "         [lin_func(x / k, a_nonlinear_conjugate_gradient_descent, b_nonlinear_conjugate_gradient_descent) for x in\n",
    "          range(k)], linewidth=3, alpha=0.7,\n",
    "         label=\"Non-linear conjugate gradient descent\")\n",
    "plt.plot(range(k), [lin_func(x / k, a_newton, b_newton) for x in range(k)], linewidth=2, alpha=0.7,\n",
    "         label=\"Newton’s method\")\n",
    "plt.plot(range(k), [lin_func(x / k, a_lm, b_lm) for x in range(k)], linewidth=2, alpha=0.7,\n",
    "         label=\"Levenberg-Marquardt algorithm\")\n",
    "plt.title('Linear function approximation')\n",
    "plt.legend()\n",
    "plt.show()"
   ],
   "metadata": {
    "collapsed": false,
    "pycharm": {
     "name": "#%%\n"
    }
   }
  },
  {
   "cell_type": "code",
   "execution_count": 303,
   "outputs": [
    {
     "name": "stdout",
     "output_type": "stream",
     "text": [
      "{'a': 0.3810991174865162,\n",
      " 'b': -0.5584409317002158,\n",
      " 'func_call': 46,\n",
      " 'gradient_call': 22,\n",
      " 'hessian_call': 0,\n",
      " 'iters': 22}\n"
     ]
    }
   ],
   "source": [
    "func_call = 0\n",
    "gradient_call = 0\n",
    "hessian_call = 0\n",
    "\n",
    "a_gradient_descent_rat, b_gradient_descent_rat, iters = gradient_descent(0, 0, eps, counter(rational_func_to_optim),\n",
    "                                                                  counter_g(gradient_rational_func_with_loss))\n",
    "\n",
    "pprint({\n",
    "    \"a\": a_gradient_descent_rat,\n",
    "    \"b\": b_gradient_descent_rat,\n",
    "    \"iters\": iters,\n",
    "    \"func_call\": func_call,\n",
    "    \"gradient_call\": gradient_call,\n",
    "    \"hessian_call\": hessian_call,\n",
    "})"
   ],
   "metadata": {
    "collapsed": false,
    "pycharm": {
     "name": "#%%\n"
    }
   }
  },
  {
   "cell_type": "code",
   "execution_count": 295,
   "outputs": [
    {
     "name": "stdout",
     "output_type": "stream",
     "text": [
      "Optimization terminated successfully.\n",
      "         Current function value: 87.693039\n",
      "         Iterations: 10\n",
      "         Function evaluations: 31\n",
      "         Gradient evaluations: 31\n",
      "{'a': 0.3921386751576207,\n",
      " 'b': -0.5341490560371829,\n",
      " 'func_call': 31,\n",
      " 'gradient_call': 31,\n",
      " 'hessian_call': 0,\n",
      " 'iters': 10}\n"
     ]
    }
   ],
   "source": [
    "func_call = 0\n",
    "gradient_call = 0\n",
    "hessian_call = 0\n",
    "\n",
    "a_nonlinear_conjugate_gradient_descent_rat, b_nonlinear_conjugate_gradient_descent_rat = optimize.fmin_cg(\n",
    "    lambda x: counter(rational_func_to_optim)(*x), (0, 0), fprime=lambda x: counter_g(gradient_rational_func_with_loss)(*x))\n",
    "\n",
    "pprint({\n",
    "    \"a\": a_nonlinear_conjugate_gradient_descent_rat,\n",
    "    \"b\": b_nonlinear_conjugate_gradient_descent_rat,\n",
    "    \"iters\": 10,\n",
    "    \"func_call\": func_call,\n",
    "    \"gradient_call\": gradient_call,\n",
    "    \"hessian_call\": hessian_call,\n",
    "})"
   ],
   "metadata": {
    "collapsed": false,
    "pycharm": {
     "name": "#%%\n"
    }
   }
  },
  {
   "cell_type": "code",
   "execution_count": 297,
   "outputs": [
    {
     "name": "stdout",
     "output_type": "stream",
     "text": [
      "{'a': 0.3921386731227408,\n",
      " 'b': -0.5341490602242988,\n",
      " 'func_call': 13,\n",
      " 'gradient_call': 13,\n",
      " 'hessian_call': 8,\n",
      " 'iters': 8}\n"
     ]
    },
    {
     "data": {
      "text/plain": "     fun: 87.69303885302975\n     jac: array([ 0.00040321, -0.00039821])\n message: 'Optimization terminated successfully.'\n    nfev: 13\n    nhev: 8\n     nit: 8\n    njev: 13\n  status: 0\n success: True\n       x: array([ 0.39213867, -0.53414906])"
     },
     "execution_count": 297,
     "metadata": {},
     "output_type": "execute_result"
    }
   ],
   "source": [
    "func_call = 0\n",
    "gradient_call = 0\n",
    "hessian_call = 0\n",
    "\n",
    "newton_results_rat = optimize.minimize(lambda x: counter(rational_func_to_optim)(*x), np.array([0, 0]), method='Newton-CG',\n",
    "                                       jac=lambda x: counter_g(gradient_rational_func_with_loss)(*x),\n",
    "                                       hess=lambda x: counter_h(hessian_rational_func_with_loss)(*x))\n",
    "a_newton_rat, b_newton_rat = newton_results_rat.x\n",
    "\n",
    "\n",
    "pprint({\n",
    "    \"a\": a_newton_rat,\n",
    "    \"b\": b_newton_rat,\n",
    "    \"iters\": 8,\n",
    "    \"func_call\": func_call,\n",
    "    \"gradient_call\": gradient_call,\n",
    "    \"hessian_call\": hessian_call,\n",
    "})\n",
    "newton_results_rat"
   ],
   "metadata": {
    "collapsed": false,
    "pycharm": {
     "name": "#%%\n"
    }
   }
  },
  {
   "cell_type": "code",
   "execution_count": 301,
   "outputs": [
    {
     "name": "stdout",
     "output_type": "stream",
     "text": [
      "{'a': 0.39213867331202296,\n",
      " 'b': -0.5341490595957724,\n",
      " 'func_call': 0,\n",
      " 'gradient_call': 45,\n",
      " 'hessian_call': 0,\n",
      " 'iters': 8}\n"
     ]
    },
    {
     "data": {
      "text/plain": "   cov_x: array([[0.00030725, 0.00072365],\n       [0.00072365, 0.00173064]])\n    fjac: array([[-4.63172614e+02, -3.93884179e-01],\n       [ 1.93670116e+02, -2.40378756e+01]])\n     fun: array([-1.78902173e-08,  2.10885127e-08])\n    ipvt: array([1, 2], dtype=int32)\n message: 'The relative error between two consecutive iterates is at most 0.000000'\n    nfev: 43\n     qtf: array([-1.03965746e-07,  5.18226090e-08])\n  status: 2\n success: True\n       x: array([ 0.39213867, -0.53414906])"
     },
     "execution_count": 301,
     "metadata": {},
     "output_type": "execute_result"
    }
   ],
   "source": [
    "func_call = 0\n",
    "gradient_call = 0\n",
    "hessian_call = 0\n",
    "\n",
    "lm_res_rat = optimize.root(lambda x: counter_g(gradient_rational_func_with_loss)(*x), np.array([0.5, -0.5]), method='lm',\n",
    "                           options={\"eps\": eps})\n",
    "a_lm_rat, b_lm_rat = lm_res_rat.x\n",
    "\n",
    "pprint({\n",
    "    \"a\": a_lm_rat,\n",
    "    \"b\": b_lm_rat,\n",
    "    \"iters\": 8,\n",
    "    \"func_call\": func_call,\n",
    "    \"gradient_call\": gradient_call,\n",
    "    \"hessian_call\": hessian_call,\n",
    "})\n",
    "lm_res_rat"
   ],
   "metadata": {
    "collapsed": false,
    "pycharm": {
     "name": "#%%\n"
    }
   }
  },
  {
   "cell_type": "code",
   "execution_count": 266,
   "outputs": [
    {
     "data": {
      "text/plain": "<Figure size 936x360 with 1 Axes>",
      "image/png": "[encoded data removed]"
     },
     "metadata": {
      "needs_background": "light"
     },
     "output_type": "display_data"
    }
   ],
   "source": [
    "plt.figure(figsize=(13, 5))\n",
    "plt.plot(range(k), arr, 'o', alpha=0.7, label=\"Generated data\")\n",
    "plt.plot(range(k), [lin_func(x / k, alpha, beta) for x in range(k)], linewidth=2, alpha=1, label=\"Originating line\")\n",
    "plt.plot(range(k), [rational_func(x / k, a_gradient_descent_rat, b_gradient_descent_rat) for x in range(k)],\n",
    "         linewidth=4,\n",
    "         alpha=0.7,\n",
    "         label=\"Gradient descent\")\n",
    "plt.plot(range(k),\n",
    "         [rational_func(x / k, a_nonlinear_conjugate_gradient_descent_rat, b_nonlinear_conjugate_gradient_descent_rat)\n",
    "          for x in\n",
    "          range(k)], linewidth=3, alpha=0.7,\n",
    "         label=\"Non-linear conjugate gradient descent\")\n",
    "plt.plot(range(k), [rational_func(x / k, a_newton_rat, b_newton_rat) for x in range(k)], linewidth=2, alpha=0.7,\n",
    "         label=\"Newton’s method\")\n",
    "plt.plot(range(k), [rational_func(x / k, a_lm_rat, b_lm_rat) for x in range(k)], linewidth=2, alpha=0.7,\n",
    "         label=\"Levenberg-Marquardt algorithm\")\n",
    "plt.title('Rational function approximation')\n",
    "plt.legend()\n",
    "plt.show()"
   ],
   "metadata": {
    "collapsed": false,
    "pycharm": {
     "name": "#%%\n"
    }
   }
  },
  {
   "cell_type": "code",
   "execution_count": null,
   "outputs": [],
   "source": [],
   "metadata": {
    "collapsed": false,
    "pycharm": {
     "name": "#%%\n"
    }
   }
  }
 ],
 "metadata": {
  "kernelspec": {
   "display_name": "Python 3",
   "language": "python",
   "name": "python3"
  },
  "language_info": {
   "codemirror_mode": {
    "name": "ipython",
    "version": 2
   },
   "file_extension": ".py",
   "mimetype": "text/x-python",
   "name": "python",
   "nbconvert_exporter": "python",
   "pygments_lexer": "ipython2",
   "version": "2.7.6"
  }
 },
 "nbformat": 4,
 "nbformat_minor": 0
}